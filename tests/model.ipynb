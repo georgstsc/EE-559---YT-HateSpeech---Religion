{
 "cells": [
  {
   "cell_type": "markdown",
   "metadata": {},
   "source": [
    "# 🤖 Model Training: Religious Hate Speech Classifier\n",
    "\n",
    "This notebook fine-tunes a transformer-based model to detect **religious hate speech** in user comments.\n",
    "\n",
    "The training data comes from our `data.ipynb` preprocessing pipeline, which extracted and weakly labeled comments based on:\n",
    "- Keyword-based religious mention detection\n",
    "- Toxicity thresholds\n",
    "\n",
    "We train on a **balanced dataset** to improve detection of minority class (`hate = 1`) and evaluate model performance on both validation and test splits.\n",
    "\n",
    "---\n",
    "\n",
    "## 🧪 Notebook Overview\n",
    "\n",
    "1. 📥 Load balanced train/val/test splits\n",
    "2. 🔤 Tokenize using Hugging Face tokenizer\n",
    "3. 🏗️ Fine-tune transformer (starting with a small model for fast experimentation)\n",
    "4. 📈 Evaluate metrics: accuracy, precision, recall, F1, confusion matrix\n",
    "5. 💾 Save trained model for use on Gnoto or downstream inference\n",
    "\n",
    "---\n"
   ]
  },
  {
   "cell_type": "code",
   "execution_count": 1,
   "metadata": {},
   "outputs": [
    {
     "name": "stdout",
     "output_type": "stream",
     "text": [
      "Do not use pip without activating a virtual environment first!\n",
      "Otherwise, you might break your default Python environment and not be able to start Jupyter again.\n",
      "Check the Documentation on how to deal with virtual environments:\n",
      "🗀 / Documentation / 10_Envs_and_kernels.ipynb\n",
      "✅ Dataset loaded\n",
      "Train: 142994 | Val: 9613 | Test: 9614\n",
      "                                                    text  toxicity  \\\n",
      "79718  NO!\\nHE WANTS OUT OF JAIL!!!\\nDENY THAT POS AN...     0.525   \n",
      "31699  Bill Maher’s show on September 29th featured t...     0.000   \n",
      "7732   I would take the opposite tack and advise that...     0.000   \n",
      "\n",
      "       severe_toxicity  obscene  threat  insult  identity_attack  \\\n",
      "79718            0.025      0.0    0.25     0.2           0.3375   \n",
      "31699            0.000      0.0    0.00     0.0           0.0000   \n",
      "7732             0.000      0.0    0.00     0.0           0.0000   \n",
      "\n",
      "       sexual_explicit  mentions_religion  religious_hate  label  \n",
      "79718              0.0               True            True      1  \n",
      "31699              0.0               True           False      0  \n",
      "7732               0.0               True           False      0  \n"
     ]
    }
   ],
   "source": [
    "# ✅ Install if missing\n",
    "!pip install transformers scikit-learn --quiet\n",
    "\n",
    "# 📚 Imports\n",
    "import pandas as pd\n",
    "from sklearn.model_selection import train_test_split\n",
    "from sklearn.metrics import classification_report, confusion_matrix, accuracy_score, f1_score\n",
    "import matplotlib.pyplot as plt\n",
    "import seaborn as sns\n",
    "\n",
    "# ✅ Load balanced dataset\n",
    "train_df = pd.read_csv(\"../data/train_balanced.csv\")\n",
    "val_df = pd.read_csv(\"../data/val_balanced.csv\")\n",
    "test_df = pd.read_csv(\"../data/test_balanced.csv\")\n",
    "\n",
    "print(\"✅ Dataset loaded\")\n",
    "print(f\"Train: {len(train_df)} | Val: {len(val_df)} | Test: {len(test_df)}\")\n",
    "print(train_df.sample(3))\n"
   ]
  },
  {
   "cell_type": "markdown",
   "metadata": {},
   "source": [
    "## 🔤 Tokenization with Hugging Face Tokenizer\n",
    "\n",
    "We tokenize the text using a pretrained tokenizer compatible with our selected model.  \n",
    "We'll use [`prajjwal1/bert-tiny`](https://huggingface.co/prajjwal1/bert-tiny) — a lightweight BERT variant for fast testing and prototyping.\n",
    "\n",
    "Later on Gnoto, we can easily switch to a more powerful model like `microsoft/deberta-v3-small` without changing the code logic.\n"
   ]
  },
  {
   "cell_type": "code",
   "execution_count": 2,
   "metadata": {},
   "outputs": [
    {
     "name": "stdout",
     "output_type": "stream",
     "text": [
      "✅ Tokenization complete\n"
     ]
    }
   ],
   "source": [
    "from transformers import AutoTokenizer\n",
    "import torch\n",
    "from torch.utils.data import Dataset, DataLoader\n",
    "\n",
    "# ✅ Choose model\n",
    "model_name = \"prajjwal1/bert-tiny\"\n",
    "tokenizer = AutoTokenizer.from_pretrained(model_name)\n",
    "\n",
    "# ✅ Dataset wrapper for PyTorch\n",
    "class CommentDataset(Dataset):\n",
    "    def __init__(self, texts, labels):\n",
    "        self.encodings = tokenizer(texts.tolist(), truncation=True, padding=True, max_length=256)\n",
    "        self.labels = labels.tolist()\n",
    "\n",
    "    def __getitem__(self, idx):\n",
    "        return {\n",
    "            'input_ids': torch.tensor(self.encodings['input_ids'][idx]),\n",
    "            'attention_mask': torch.tensor(self.encodings['attention_mask'][idx]),\n",
    "            'labels': torch.tensor(self.labels[idx])\n",
    "        }\n",
    "\n",
    "    def __len__(self):\n",
    "        return len(self.labels)\n",
    "\n",
    "# ✅ Prepare datasets\n",
    "train_data = CommentDataset(train_df['text'], train_df['label'])\n",
    "val_data = CommentDataset(val_df['text'], val_df['label'])\n",
    "test_data = CommentDataset(test_df['text'], test_df['label'])\n",
    "\n",
    "# ✅ Loaders\n",
    "train_loader = DataLoader(train_data, batch_size=16, shuffle=True)\n",
    "val_loader = DataLoader(val_data, batch_size=32)\n",
    "test_loader = DataLoader(test_data, batch_size=32)\n",
    "\n",
    "print(\"✅ Tokenization complete\")\n"
   ]
  },
  {
   "cell_type": "markdown",
   "metadata": {},
   "source": [
    "## 🧠 Model Setup and Optimizer\n",
    "\n",
    "We load a lightweight transformer model (`prajjwal1/bert-tiny`) for fast experimentation.  \n",
    "This model will be fine-tuned on our balanced religious hate speech dataset using a binary classification head.\n",
    "\n",
    "We use the `AdamW` optimizer, commonly used for transformer-based models, and push the model to GPU if available (CPU otherwise).\n"
   ]
  },
  {
   "cell_type": "code",
   "execution_count": 3,
   "metadata": {},
   "outputs": [
    {
     "name": "stderr",
     "output_type": "stream",
     "text": [
      "Some weights of BertForSequenceClassification were not initialized from the model checkpoint at prajjwal1/bert-tiny and are newly initialized: ['classifier.bias', 'classifier.weight']\n",
      "You should probably TRAIN this model on a down-stream task to be able to use it for predictions and inference.\n"
     ]
    },
    {
     "name": "stdout",
     "output_type": "stream",
     "text": [
      "🖥️ Running on: cuda\n"
     ]
    }
   ],
   "source": [
    "from transformers import AutoModelForSequenceClassification\n",
    "from torch.optim import AdamW\n",
    "\n",
    "\n",
    "# ✅ Load model with classification head (binary)\n",
    "model = AutoModelForSequenceClassification.from_pretrained(model_name, num_labels=2)\n",
    "\n",
    "# ✅ Use GPU if available\n",
    "device = torch.device(\"cuda\" if torch.cuda.is_available() else \"cpu\")\n",
    "model.to(device)\n",
    "print(\"🖥️ Running on:\", device)\n",
    "\n",
    "# ✅ Set up optimizer\n",
    "optimizer = AdamW(model.parameters(), lr=5e-5)\n"
   ]
  },
  {
   "cell_type": "markdown",
   "metadata": {},
   "source": [
    "## 🏋️ Training Loop (1 Epoch)\n",
    "\n",
    "We'll train the model using standard PyTorch for 1 quick epoch.  \n",
    "This is just to verify that everything works before scaling it up on GPU (e.g., on Gnoto).\n",
    "\n",
    "During each batch:\n",
    "- We move inputs to the selected device\n",
    "- Compute loss\n",
    "- Backpropagate\n",
    "- Step optimizer\n",
    "\n",
    "We also evaluate the model on the validation set at the end of the epoch using accuracy and F1 score.\n"
   ]
  },
  {
   "cell_type": "code",
   "execution_count": 4,
   "metadata": {},
   "outputs": [
    {
     "name": "stdout",
     "output_type": "stream",
     "text": [
      "\n",
      "🚀 Epoch 1/1\n"
     ]
    },
    {
     "name": "stderr",
     "output_type": "stream",
     "text": [
      "Training: 100%|██████████| 8938/8938 [01:47<00:00, 82.91it/s]\n"
     ]
    },
    {
     "name": "stdout",
     "output_type": "stream",
     "text": [
      "📉 Avg Training Loss: 0.2726\n",
      "✅ Val Accuracy: 0.8831 | F1 Score: 0.4718\n"
     ]
    }
   ],
   "source": [
    "from sklearn.metrics import accuracy_score, f1_score\n",
    "from tqdm import tqdm\n",
    "\n",
    "# ✅ One quick epoch\n",
    "EPOCHS = 1\n",
    "\n",
    "model.train()\n",
    "for epoch in range(EPOCHS):\n",
    "    total_loss = 0\n",
    "    print(f\"\\n🚀 Epoch {epoch + 1}/{EPOCHS}\")\n",
    "\n",
    "    for batch in tqdm(train_loader, desc=\"Training\"):\n",
    "        # Move to device\n",
    "        batch = {k: v.to(device) for k, v in batch.items()}\n",
    "\n",
    "        # Forward pass\n",
    "        outputs = model(**batch)\n",
    "        loss = outputs.loss\n",
    "        total_loss += loss.item()\n",
    "\n",
    "        # Backprop\n",
    "        loss.backward()\n",
    "        optimizer.step()\n",
    "        optimizer.zero_grad()\n",
    "\n",
    "    avg_loss = total_loss / len(train_loader)\n",
    "    print(f\"📉 Avg Training Loss: {avg_loss:.4f}\")\n",
    "\n",
    "    # ✅ Evaluation on validation set\n",
    "    model.eval()\n",
    "    val_preds, val_labels = [], []\n",
    "\n",
    "    with torch.no_grad():\n",
    "        for batch in val_loader:\n",
    "            batch = {k: v.to(device) for k, v in batch.items()}\n",
    "            outputs = model(**batch)\n",
    "            preds = torch.argmax(outputs.logits, dim=1)\n",
    "            val_preds.extend(preds.cpu().numpy())\n",
    "            val_labels.extend(batch[\"labels\"].cpu().numpy())\n",
    "\n",
    "    val_acc = accuracy_score(val_labels, val_preds)\n",
    "    val_f1 = f1_score(val_labels, val_preds)\n",
    "    print(f\"✅ Val Accuracy: {val_acc:.4f} | F1 Score: {val_f1:.4f}\")\n",
    "\n",
    "    model.train()\n"
   ]
  },
  {
   "cell_type": "markdown",
   "metadata": {},
   "source": [
    "## 🧪 Final Evaluation on Test Set\n",
    "\n",
    "After training and validation, we now evaluate the model's performance on the test set.  \n",
    "We’ll compute:\n",
    "- Accuracy\n",
    "- Precision\n",
    "- Recall\n",
    "- F1 Score\n",
    "- Confusion Matrix\n",
    "\n",
    "This helps us understand how well the model generalizes to unseen religious hate speech examples.\n"
   ]
  },
  {
   "cell_type": "code",
   "execution_count": 5,
   "metadata": {},
   "outputs": [
    {
     "name": "stdout",
     "output_type": "stream",
     "text": [
      "📊 Classification Report:\n",
      "              precision    recall  f1-score   support\n",
      "\n",
      "    Non-Hate       0.98      0.89      0.93      8938\n",
      "        Hate       0.35      0.77      0.48       676\n",
      "\n",
      "    accuracy                           0.88      9614\n",
      "   macro avg       0.67      0.83      0.71      9614\n",
      "weighted avg       0.94      0.88      0.90      9614\n",
      "\n"
     ]
    },
    {
     "name": "stderr",
     "output_type": "stream",
     "text": [
      "/opt/jlab-env/lib/python3.12/site-packages/IPython/core/pylabtools.py:170: UserWarning: Glyph 129513 (\\N{JIGSAW PUZZLE PIECE}) missing from font(s) DejaVu Sans.\n",
      "  fig.canvas.print_figure(bytes_io, **kw)\n"
     ]
    },
    {
     "data": {
      "image/png": "[encoded data removed]",
      "text/plain": [
       "<Figure size 640x480 with 2 Axes>"
      ]
     },
     "metadata": {},
     "output_type": "display_data"
    }
   ],
   "source": [
    "from sklearn.metrics import classification_report, confusion_matrix\n",
    "import seaborn as sns\n",
    "import matplotlib.pyplot as plt\n",
    "\n",
    "# ✅ Inference\n",
    "model.eval()\n",
    "test_preds, test_labels = [], []\n",
    "\n",
    "with torch.no_grad():\n",
    "    for batch in test_loader:\n",
    "        batch = {k: v.to(device) for k, v in batch.items()}\n",
    "        outputs = model(**batch)\n",
    "        preds = torch.argmax(outputs.logits, dim=1)\n",
    "        test_preds.extend(preds.cpu().numpy())\n",
    "        test_labels.extend(batch[\"labels\"].cpu().numpy())\n",
    "\n",
    "# ✅ Metrics\n",
    "print(\"📊 Classification Report:\")\n",
    "print(classification_report(test_labels, test_preds, target_names=[\"Non-Hate\", \"Hate\"]))\n",
    "\n",
    "# ✅ Confusion Matrix\n",
    "cm = confusion_matrix(test_labels, test_preds)\n",
    "sns.heatmap(cm, annot=True, fmt='d', cmap='Blues', xticklabels=[\"Non-Hate\", \"Hate\"], yticklabels=[\"Non-Hate\", \"Hate\"])\n",
    "plt.xlabel(\"Predicted\")\n",
    "plt.ylabel(\"Actual\")\n",
    "plt.title(\"🧩 Confusion Matrix\")\n",
    "plt.show()"
   ]
  },
  {
   "cell_type": "markdown",
   "metadata": {},
   "source": [
    "## 💾 Save Trained Model and Tokenizer\n",
    "\n",
    "We now save the fine-tuned model and tokenizer locally so that it can be:\n",
    "- Reloaded for inference\n",
    "- Uploaded to Gnoto for full-scale training\n",
    "- Shared with teammates or deployed later\n",
    "\n",
    "This will create a folder containing:\n",
    "- Model weights (`pytorch_model.bin`)\n",
    "- Config and tokenizer files\n"
   ]
  },
  {
   "cell_type": "code",
   "execution_count": 6,
   "metadata": {},
   "outputs": [
    {
     "name": "stdout",
     "output_type": "stream",
     "text": [
      "✅ Model and tokenizer saved to: ../models/bert-tiny-hate\n"
     ]
    }
   ],
   "source": [
    "from transformers import AutoTokenizer\n",
    "\n",
    "# 📁 Save folder path\n",
    "save_path = \"../models/bert-tiny-hate\"\n",
    "\n",
    "# 💾 Save model + tokenizer\n",
    "model.save_pretrained(save_path)\n",
    "tokenizer.save_pretrained(save_path)\n",
    "\n",
    "print(f\"✅ Model and tokenizer saved to: {save_path}\")\n"
   ]
  },
  {
   "cell_type": "code",
   "execution_count": 7,
   "metadata": {},
   "outputs": [
    {
     "name": "stdout",
     "output_type": "stream",
     "text": [
      "⚠️ Overlapping comments: 0\n"
     ]
    }
   ],
   "source": [
    "overlap = set(train_df['text']) & set(test_df['text'])\n",
    "print(f\"⚠️ Overlapping comments: {len(overlap)}\")"
   ]
  },
  {
   "cell_type": "code",
   "execution_count": null,
   "metadata": {},
   "outputs": [],
   "source": []
  }
 ],
 "metadata": {
  "kernelspec": {
   "display_name": "Python3",
   "language": "python",
   "name": "python3"
  },
  "language_info": {
   "codemirror_mode": {
    "name": "ipython",
    "version": 3
   },
   "file_extension": ".py",
   "mimetype": "text/x-python",
   "name": "python",
   "nbconvert_exporter": "python",
   "pygments_lexer": "ipython3",
   "version": "3.12.8"
  }
 },
 "nbformat": 4,
 "nbformat_minor": 4
}
